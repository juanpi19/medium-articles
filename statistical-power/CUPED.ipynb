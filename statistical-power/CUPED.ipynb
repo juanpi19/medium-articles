{
  "nbformat": 4,
  "nbformat_minor": 0,
  "metadata": {
    "colab": {
      "provenance": [],
      "authorship_tag": "ABX9TyPAysPTi0ftxafLBWWGbYaI",
      "include_colab_link": true
    },
    "kernelspec": {
      "name": "python3",
      "display_name": "Python 3"
    },
    "language_info": {
      "name": "python"
    }
  },
  "cells": [
    {
      "cell_type": "markdown",
      "metadata": {
        "id": "view-in-github",
        "colab_type": "text"
      },
      "source": [
        "<a href=\"https://colab.research.google.com/github/juanpi19/medium-articles/blob/main/statistical-power/CUPED.ipynb\" target=\"_parent\"><img src=\"https://colab.research.google.com/assets/colab-badge.svg\" alt=\"Open In Colab\"/></a>"
      ]
    },
    {
      "cell_type": "code",
      "execution_count": null,
      "metadata": {
        "id": "g1dl7bbL_Ey9"
      },
      "outputs": [],
      "source": [
        "import numpy as np\n",
        "import pandas as pd\n",
        "import matplotlib.pyplot as plt\n",
        "import uuid\n",
        "\n",
        "import statsmodels.formula.api as smf\n",
        "import scipy.stats as stats"
      ]
    },
    {
      "cell_type": "markdown",
      "source": [
        "# Data Generating Process"
      ],
      "metadata": {
        "id": "IOagACnRxWQg"
      }
    },
    {
      "cell_type": "code",
      "source": [
        "df = pd.DataFrame()\n",
        "\n",
        "# Sample Size\n",
        "n = 1000\n",
        "true_effect = 500\n",
        "\n",
        "# User IDs\n",
        "user_ids = [str(uuid.uuid4()) for _ in range(n)]\n",
        "\n",
        "# Baseline Revenue: will be drawn from a normal distribution with 2000 mean, 300 variance. This refers to $$\n",
        "baseline_revenue = np.random.normal(loc=2000, scale=300, size=n)\n",
        "\n",
        "# noise\n",
        "var = 10\n",
        "\n",
        "# Dataframe\n",
        "df = pd.DataFrame()\n",
        "df['user_id'] = user_ids\n",
        "df.loc[:499, 'treatment'] = 1 # Split users 50/50 to receive the treatment\n",
        "df.loc[499:, 'treatment'] = 0\n",
        "\n",
        "df['baseline_revenue'] = baseline_revenue\n",
        "df['experiment_revenue'] = np.where(df['treatment'] == 0,\n",
        "                                  baseline_revenue + np.random.normal(0,var,n),\n",
        "                                  baseline_revenue + np.random.normal(loc=true_effect, scale=200, size=n) + np.random.normal(0,var,n))"
      ],
      "metadata": {
        "id": "qlnDH979h8fX"
      },
      "execution_count": null,
      "outputs": []
    },
    {
      "cell_type": "code",
      "source": [
        "df.head()"
      ],
      "metadata": {
        "colab": {
          "base_uri": "https://localhost:8080/",
          "height": 206
        },
        "id": "xsweoX1Vz8WJ",
        "outputId": "6bba7106-241e-46b6-c7d8-d2feecb7de08"
      },
      "execution_count": null,
      "outputs": [
        {
          "output_type": "execute_result",
          "data": {
            "text/plain": [
              "                                user_id  treatment  baseline_revenue  \\\n",
              "0  c943157b-7b46-4af2-a117-23a8b8a81fe6        1.0       2445.857936   \n",
              "1  580d98c2-05b2-4c88-9d35-d34d5dde6df7        1.0       2100.192045   \n",
              "2  4410935a-b569-4df5-8c13-89ff6b0e0230        1.0       1771.354559   \n",
              "3  151fe30f-ff9a-4b61-b055-ec262e4c8f78        1.0       2008.257007   \n",
              "4  c976c00e-d228-407c-918e-c37da17e492d        1.0       1882.083583   \n",
              "\n",
              "   experiment_revenue  \n",
              "0         2833.034084  \n",
              "1         2572.209342  \n",
              "2         2612.638197  \n",
              "3         2618.281138  \n",
              "4         2499.545542  "
            ],
            "text/html": [
              "\n",
              "  <div id=\"df-92a327de-91d9-432f-b20c-4f1b0fc6cf3a\" class=\"colab-df-container\">\n",
              "    <div>\n",
              "<style scoped>\n",
              "    .dataframe tbody tr th:only-of-type {\n",
              "        vertical-align: middle;\n",
              "    }\n",
              "\n",
              "    .dataframe tbody tr th {\n",
              "        vertical-align: top;\n",
              "    }\n",
              "\n",
              "    .dataframe thead th {\n",
              "        text-align: right;\n",
              "    }\n",
              "</style>\n",
              "<table border=\"1\" class=\"dataframe\">\n",
              "  <thead>\n",
              "    <tr style=\"text-align: right;\">\n",
              "      <th></th>\n",
              "      <th>user_id</th>\n",
              "      <th>treatment</th>\n",
              "      <th>baseline_revenue</th>\n",
              "      <th>experiment_revenue</th>\n",
              "    </tr>\n",
              "  </thead>\n",
              "  <tbody>\n",
              "    <tr>\n",
              "      <th>0</th>\n",
              "      <td>c943157b-7b46-4af2-a117-23a8b8a81fe6</td>\n",
              "      <td>1.0</td>\n",
              "      <td>2445.857936</td>\n",
              "      <td>2833.034084</td>\n",
              "    </tr>\n",
              "    <tr>\n",
              "      <th>1</th>\n",
              "      <td>580d98c2-05b2-4c88-9d35-d34d5dde6df7</td>\n",
              "      <td>1.0</td>\n",
              "      <td>2100.192045</td>\n",
              "      <td>2572.209342</td>\n",
              "    </tr>\n",
              "    <tr>\n",
              "      <th>2</th>\n",
              "      <td>4410935a-b569-4df5-8c13-89ff6b0e0230</td>\n",
              "      <td>1.0</td>\n",
              "      <td>1771.354559</td>\n",
              "      <td>2612.638197</td>\n",
              "    </tr>\n",
              "    <tr>\n",
              "      <th>3</th>\n",
              "      <td>151fe30f-ff9a-4b61-b055-ec262e4c8f78</td>\n",
              "      <td>1.0</td>\n",
              "      <td>2008.257007</td>\n",
              "      <td>2618.281138</td>\n",
              "    </tr>\n",
              "    <tr>\n",
              "      <th>4</th>\n",
              "      <td>c976c00e-d228-407c-918e-c37da17e492d</td>\n",
              "      <td>1.0</td>\n",
              "      <td>1882.083583</td>\n",
              "      <td>2499.545542</td>\n",
              "    </tr>\n",
              "  </tbody>\n",
              "</table>\n",
              "</div>\n",
              "    <div class=\"colab-df-buttons\">\n",
              "\n",
              "  <div class=\"colab-df-container\">\n",
              "    <button class=\"colab-df-convert\" onclick=\"convertToInteractive('df-92a327de-91d9-432f-b20c-4f1b0fc6cf3a')\"\n",
              "            title=\"Convert this dataframe to an interactive table.\"\n",
              "            style=\"display:none;\">\n",
              "\n",
              "  <svg xmlns=\"http://www.w3.org/2000/svg\" height=\"24px\" viewBox=\"0 -960 960 960\">\n",
              "    <path d=\"M120-120v-720h720v720H120Zm60-500h600v-160H180v160Zm220 220h160v-160H400v160Zm0 220h160v-160H400v160ZM180-400h160v-160H180v160Zm440 0h160v-160H620v160ZM180-180h160v-160H180v160Zm440 0h160v-160H620v160Z\"/>\n",
              "  </svg>\n",
              "    </button>\n",
              "\n",
              "  <style>\n",
              "    .colab-df-container {\n",
              "      display:flex;\n",
              "      gap: 12px;\n",
              "    }\n",
              "\n",
              "    .colab-df-convert {\n",
              "      background-color: #E8F0FE;\n",
              "      border: none;\n",
              "      border-radius: 50%;\n",
              "      cursor: pointer;\n",
              "      display: none;\n",
              "      fill: #1967D2;\n",
              "      height: 32px;\n",
              "      padding: 0 0 0 0;\n",
              "      width: 32px;\n",
              "    }\n",
              "\n",
              "    .colab-df-convert:hover {\n",
              "      background-color: #E2EBFA;\n",
              "      box-shadow: 0px 1px 2px rgba(60, 64, 67, 0.3), 0px 1px 3px 1px rgba(60, 64, 67, 0.15);\n",
              "      fill: #174EA6;\n",
              "    }\n",
              "\n",
              "    .colab-df-buttons div {\n",
              "      margin-bottom: 4px;\n",
              "    }\n",
              "\n",
              "    [theme=dark] .colab-df-convert {\n",
              "      background-color: #3B4455;\n",
              "      fill: #D2E3FC;\n",
              "    }\n",
              "\n",
              "    [theme=dark] .colab-df-convert:hover {\n",
              "      background-color: #434B5C;\n",
              "      box-shadow: 0px 1px 3px 1px rgba(0, 0, 0, 0.15);\n",
              "      filter: drop-shadow(0px 1px 2px rgba(0, 0, 0, 0.3));\n",
              "      fill: #FFFFFF;\n",
              "    }\n",
              "  </style>\n",
              "\n",
              "    <script>\n",
              "      const buttonEl =\n",
              "        document.querySelector('#df-92a327de-91d9-432f-b20c-4f1b0fc6cf3a button.colab-df-convert');\n",
              "      buttonEl.style.display =\n",
              "        google.colab.kernel.accessAllowed ? 'block' : 'none';\n",
              "\n",
              "      async function convertToInteractive(key) {\n",
              "        const element = document.querySelector('#df-92a327de-91d9-432f-b20c-4f1b0fc6cf3a');\n",
              "        const dataTable =\n",
              "          await google.colab.kernel.invokeFunction('convertToInteractive',\n",
              "                                                    [key], {});\n",
              "        if (!dataTable) return;\n",
              "\n",
              "        const docLinkHtml = 'Like what you see? Visit the ' +\n",
              "          '<a target=\"_blank\" href=https://colab.research.google.com/notebooks/data_table.ipynb>data table notebook</a>'\n",
              "          + ' to learn more about interactive tables.';\n",
              "        element.innerHTML = '';\n",
              "        dataTable['output_type'] = 'display_data';\n",
              "        await google.colab.output.renderOutput(dataTable, element);\n",
              "        const docLink = document.createElement('div');\n",
              "        docLink.innerHTML = docLinkHtml;\n",
              "        element.appendChild(docLink);\n",
              "      }\n",
              "    </script>\n",
              "  </div>\n",
              "\n",
              "\n",
              "<div id=\"df-f78874c0-f8ba-4f53-84c1-09d6b66c7717\">\n",
              "  <button class=\"colab-df-quickchart\" onclick=\"quickchart('df-f78874c0-f8ba-4f53-84c1-09d6b66c7717')\"\n",
              "            title=\"Suggest charts\"\n",
              "            style=\"display:none;\">\n",
              "\n",
              "<svg xmlns=\"http://www.w3.org/2000/svg\" height=\"24px\"viewBox=\"0 0 24 24\"\n",
              "     width=\"24px\">\n",
              "    <g>\n",
              "        <path d=\"M19 3H5c-1.1 0-2 .9-2 2v14c0 1.1.9 2 2 2h14c1.1 0 2-.9 2-2V5c0-1.1-.9-2-2-2zM9 17H7v-7h2v7zm4 0h-2V7h2v10zm4 0h-2v-4h2v4z\"/>\n",
              "    </g>\n",
              "</svg>\n",
              "  </button>\n",
              "\n",
              "<style>\n",
              "  .colab-df-quickchart {\n",
              "      --bg-color: #E8F0FE;\n",
              "      --fill-color: #1967D2;\n",
              "      --hover-bg-color: #E2EBFA;\n",
              "      --hover-fill-color: #174EA6;\n",
              "      --disabled-fill-color: #AAA;\n",
              "      --disabled-bg-color: #DDD;\n",
              "  }\n",
              "\n",
              "  [theme=dark] .colab-df-quickchart {\n",
              "      --bg-color: #3B4455;\n",
              "      --fill-color: #D2E3FC;\n",
              "      --hover-bg-color: #434B5C;\n",
              "      --hover-fill-color: #FFFFFF;\n",
              "      --disabled-bg-color: #3B4455;\n",
              "      --disabled-fill-color: #666;\n",
              "  }\n",
              "\n",
              "  .colab-df-quickchart {\n",
              "    background-color: var(--bg-color);\n",
              "    border: none;\n",
              "    border-radius: 50%;\n",
              "    cursor: pointer;\n",
              "    display: none;\n",
              "    fill: var(--fill-color);\n",
              "    height: 32px;\n",
              "    padding: 0;\n",
              "    width: 32px;\n",
              "  }\n",
              "\n",
              "  .colab-df-quickchart:hover {\n",
              "    background-color: var(--hover-bg-color);\n",
              "    box-shadow: 0 1px 2px rgba(60, 64, 67, 0.3), 0 1px 3px 1px rgba(60, 64, 67, 0.15);\n",
              "    fill: var(--button-hover-fill-color);\n",
              "  }\n",
              "\n",
              "  .colab-df-quickchart-complete:disabled,\n",
              "  .colab-df-quickchart-complete:disabled:hover {\n",
              "    background-color: var(--disabled-bg-color);\n",
              "    fill: var(--disabled-fill-color);\n",
              "    box-shadow: none;\n",
              "  }\n",
              "\n",
              "  .colab-df-spinner {\n",
              "    border: 2px solid var(--fill-color);\n",
              "    border-color: transparent;\n",
              "    border-bottom-color: var(--fill-color);\n",
              "    animation:\n",
              "      spin 1s steps(1) infinite;\n",
              "  }\n",
              "\n",
              "  @keyframes spin {\n",
              "    0% {\n",
              "      border-color: transparent;\n",
              "      border-bottom-color: var(--fill-color);\n",
              "      border-left-color: var(--fill-color);\n",
              "    }\n",
              "    20% {\n",
              "      border-color: transparent;\n",
              "      border-left-color: var(--fill-color);\n",
              "      border-top-color: var(--fill-color);\n",
              "    }\n",
              "    30% {\n",
              "      border-color: transparent;\n",
              "      border-left-color: var(--fill-color);\n",
              "      border-top-color: var(--fill-color);\n",
              "      border-right-color: var(--fill-color);\n",
              "    }\n",
              "    40% {\n",
              "      border-color: transparent;\n",
              "      border-right-color: var(--fill-color);\n",
              "      border-top-color: var(--fill-color);\n",
              "    }\n",
              "    60% {\n",
              "      border-color: transparent;\n",
              "      border-right-color: var(--fill-color);\n",
              "    }\n",
              "    80% {\n",
              "      border-color: transparent;\n",
              "      border-right-color: var(--fill-color);\n",
              "      border-bottom-color: var(--fill-color);\n",
              "    }\n",
              "    90% {\n",
              "      border-color: transparent;\n",
              "      border-bottom-color: var(--fill-color);\n",
              "    }\n",
              "  }\n",
              "</style>\n",
              "\n",
              "  <script>\n",
              "    async function quickchart(key) {\n",
              "      const quickchartButtonEl =\n",
              "        document.querySelector('#' + key + ' button');\n",
              "      quickchartButtonEl.disabled = true;  // To prevent multiple clicks.\n",
              "      quickchartButtonEl.classList.add('colab-df-spinner');\n",
              "      try {\n",
              "        const charts = await google.colab.kernel.invokeFunction(\n",
              "            'suggestCharts', [key], {});\n",
              "      } catch (error) {\n",
              "        console.error('Error during call to suggestCharts:', error);\n",
              "      }\n",
              "      quickchartButtonEl.classList.remove('colab-df-spinner');\n",
              "      quickchartButtonEl.classList.add('colab-df-quickchart-complete');\n",
              "    }\n",
              "    (() => {\n",
              "      let quickchartButtonEl =\n",
              "        document.querySelector('#df-f78874c0-f8ba-4f53-84c1-09d6b66c7717 button');\n",
              "      quickchartButtonEl.style.display =\n",
              "        google.colab.kernel.accessAllowed ? 'block' : 'none';\n",
              "    })();\n",
              "  </script>\n",
              "</div>\n",
              "\n",
              "    </div>\n",
              "  </div>\n"
            ],
            "application/vnd.google.colaboratory.intrinsic+json": {
              "type": "dataframe",
              "variable_name": "df",
              "summary": "{\n  \"name\": \"df\",\n  \"rows\": 1000,\n  \"fields\": [\n    {\n      \"column\": \"user_id\",\n      \"properties\": {\n        \"dtype\": \"string\",\n        \"num_unique_values\": 1000,\n        \"samples\": [\n          \"a93e6412-a6c7-4381-bb5d-55ed27676c15\",\n          \"0b89fbdd-42da-40dc-a3e4-c9eef834bd04\",\n          \"b2cd0b4a-24bc-4e31-b7a3-cf7ae369f9c8\"\n        ],\n        \"semantic_type\": \"\",\n        \"description\": \"\"\n      }\n    },\n    {\n      \"column\": \"treatment\",\n      \"properties\": {\n        \"dtype\": \"number\",\n        \"std\": 0.5002491871550083,\n        \"min\": 0.0,\n        \"max\": 1.0,\n        \"num_unique_values\": 2,\n        \"samples\": [\n          0.0,\n          1.0\n        ],\n        \"semantic_type\": \"\",\n        \"description\": \"\"\n      }\n    },\n    {\n      \"column\": \"baseline_revenue\",\n      \"properties\": {\n        \"dtype\": \"number\",\n        \"std\": 310.02277033908484,\n        \"min\": 827.1211922477598,\n        \"max\": 3146.4637399257463,\n        \"num_unique_values\": 1000,\n        \"samples\": [\n          1818.4218618127984,\n          1785.91302453267\n        ],\n        \"semantic_type\": \"\",\n        \"description\": \"\"\n      }\n    },\n    {\n      \"column\": \"experiment_revenue\",\n      \"properties\": {\n        \"dtype\": \"number\",\n        \"std\": 424.0135394989302,\n        \"min\": 1033.2835878414544,\n        \"max\": 3615.5970588310756,\n        \"num_unique_values\": 1000,\n        \"samples\": [\n          1832.951525120514,\n          1776.639069393905\n        ],\n        \"semantic_type\": \"\",\n        \"description\": \"\"\n      }\n    }\n  ]\n}"
            }
          },
          "metadata": {},
          "execution_count": 126
        }
      ]
    },
    {
      "cell_type": "markdown",
      "source": [
        "# T-test"
      ],
      "metadata": {
        "id": "8zSJRBv_0ceU"
      }
    },
    {
      "cell_type": "code",
      "source": [
        "control = df[df['treatment'] == 0]['experiment_revenue']\n",
        "treatment = df[df['treatment'] == 1]['experiment_revenue']\n",
        "\n",
        "t_stat, p_value = stats.ttest_ind(treatment, control, equal_var=True)\n",
        "effect_size = treatment.mean() - control.mean()\n",
        "\n",
        "print(\"Effect size: \", effect_size.round(4))\n",
        "print(f\"T-statistic: \", t_stat.round(3))\n",
        "print(f\"P-value: \", p_value.round(3))"
      ],
      "metadata": {
        "colab": {
          "base_uri": "https://localhost:8080/"
        },
        "id": "8JGIwqYSlXAg",
        "outputId": "f9d5abbc-1c9e-4f09-80c2-4c863a1823a9"
      },
      "execution_count": null,
      "outputs": [
        {
          "output_type": "stream",
          "name": "stdout",
          "text": [
            "Effect size:  516.2068\n",
            "T-statistic:  24.257\n",
            "P-value:  0.0\n"
          ]
        }
      ]
    },
    {
      "cell_type": "markdown",
      "source": [
        "# Linear Regression wo pre-experiment data"
      ],
      "metadata": {
        "id": "irRxvJS90d4G"
      }
    },
    {
      "cell_type": "code",
      "source": [
        "model = smf.ols('experiment_revenue ~ treatment', data=df).fit()\n",
        "print(model.summary().tables[1])"
      ],
      "metadata": {
        "id": "ucJ3M9GZ_l3u",
        "colab": {
          "base_uri": "https://localhost:8080/"
        },
        "outputId": "9e746158-d6f6-46bc-d72b-82cebca8a2fb"
      },
      "execution_count": null,
      "outputs": [
        {
          "output_type": "stream",
          "name": "stdout",
          "text": [
            "==============================================================================\n",
            "                 coef    std err          t      P>|t|      [0.025      0.975]\n",
            "------------------------------------------------------------------------------\n",
            "Intercept   1991.1748     15.033    132.456      0.000    1961.676    2020.674\n",
            "treatment    516.2068     21.281     24.257      0.000     474.447     557.967\n",
            "==============================================================================\n"
          ]
        }
      ]
    },
    {
      "cell_type": "markdown",
      "source": [
        "# Linear Regression with pre-experiment data"
      ],
      "metadata": {
        "id": "Tgb0MpwG0jci"
      }
    },
    {
      "cell_type": "code",
      "source": [
        "model = smf.ols('experiment_revenue ~ treatment + baseline_revenue', data=df).fit()\n",
        "print(model.summary().tables[1])"
      ],
      "metadata": {
        "colab": {
          "base_uri": "https://localhost:8080/"
        },
        "id": "32jZRSBXjv9i",
        "outputId": "412fcee2-0772-4126-f194-a702405e3138"
      },
      "execution_count": null,
      "outputs": [
        {
          "output_type": "stream",
          "name": "stdout",
          "text": [
            "====================================================================================\n",
            "                       coef    std err          t      P>|t|      [0.025      0.975]\n",
            "------------------------------------------------------------------------------------\n",
            "Intercept           32.0271     29.505      1.085      0.278     -25.872      89.926\n",
            "treatment          506.8181      8.969     56.505      0.000     489.217     524.419\n",
            "baseline_revenue     0.9840      0.014     67.986      0.000       0.956       1.012\n",
            "====================================================================================\n"
          ]
        }
      ]
    },
    {
      "cell_type": "code",
      "source": [
        "# Treatment Mean (in deltoid) = raw_mean_test + beta_test(pre_mean_pooled - pre_mean_test)\n",
        "\n",
        "beta_test = model.params['baseline_revenue']\n",
        "final_test_mean = np.mean(df[df['treatment']==1]['experiment_revenue']) + beta_test*(np.mean(df['baseline_revenue']) - np.mean(df[df['treatment']==1]['baseline_revenue']) )\n",
        "final_control_mean = np.mean(df[df['treatment']==0]['experiment_revenue']) + beta_test*(np.mean(df['baseline_revenue']) - np.mean(df[df['treatment']==0]['baseline_revenue']) )\n",
        "final_test_mean - final_control_mean"
      ],
      "metadata": {
        "colab": {
          "base_uri": "https://localhost:8080/"
        },
        "id": "U_Qa-quqqXW5",
        "outputId": "2c8404f7-9401-4599-c63e-1d943699c795"
      },
      "execution_count": null,
      "outputs": [
        {
          "output_type": "execute_result",
          "data": {
            "text/plain": [
              "506.81806335645274"
            ]
          },
          "metadata": {},
          "execution_count": 130
        }
      ]
    }
  ]
}