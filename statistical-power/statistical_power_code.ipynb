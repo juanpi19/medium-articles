{
 "cells": [
  {
   "cell_type": "code",
   "execution_count": 1,
   "metadata": {},
   "outputs": [],
   "source": [
    "import pandas as pd\n",
    "import numpy as np\n",
    "import matplotlib.pyplot as plt\n",
    "from statsmodels.stats.power import TTestIndPower\n",
    "from scipy.stats import t"
   ]
  },
  {
   "cell_type": "markdown",
   "metadata": {},
   "source": [
    "# Power Analysis: required sample size"
   ]
  },
  {
   "cell_type": "markdown",
   "metadata": {},
   "source": [
    " - A 5% base conversion rate\n",
    " - A 5% (relative) MDE\n",
    " - 80% power\n",
    " - 95% confidence (two-sided)\n",
    " - A 50/50 traffic split\n",
    " - 10,000 users per variant per day of traffic"
   ]
  },
  {
   "cell_type": "markdown",
   "metadata": {},
   "source": [
    "With standard assumptions, we can calculate that the required sample size is about 122,000 per variant. "
   ]
  },
  {
   "cell_type": "code",
   "execution_count": 2,
   "metadata": {},
   "outputs": [],
   "source": [
    "p0 = 0.05  # Base conversion rate\n",
    "mde = 0.0025  # relative MDE -- MDE 5% * Base Conversion Rate\n",
    "p1 = p0 + mde  # Conversion rate under the alternative hypothesis\n",
    "alpha = 0.05  # Significance level (two-sided)\n",
    "power = 0.80  # Statistical power (1 - beta)\n"
   ]
  },
  {
   "cell_type": "markdown",
   "metadata": {},
   "source": [
    "$$n = 16\\frac{\\sigma^2}{\\Delta^2}$$"
   ]
  },
  {
   "cell_type": "code",
   "execution_count": 4,
   "metadata": {},
   "outputs": [
    {
     "data": {
      "text/plain": [
       "121600.0"
      ]
     },
     "execution_count": 4,
     "metadata": {},
     "output_type": "execute_result"
    }
   ],
   "source": [
    "16 * p0*(1-p0)/mde**2"
   ]
  },
  {
   "cell_type": "markdown",
   "metadata": {},
   "source": [
    "Power Analysis using Statsmodels"
   ]
  },
  {
   "cell_type": "code",
   "execution_count": 5,
   "metadata": {},
   "outputs": [
    {
     "data": {
      "text/plain": [
       "119303.64186541685"
      ]
     },
     "execution_count": 5,
     "metadata": {},
     "output_type": "execute_result"
    }
   ],
   "source": [
    "power_analysis = TTestIndPower()\n",
    "sample_size = power_analysis.solve_power(effect_size=0.0025/np.sqrt(p0*(1-p0)), alpha=0.05, power=0.8, alternative='two-sided')\n",
    "sample_size"
   ]
  },
  {
   "cell_type": "code",
   "execution_count": 6,
   "metadata": {},
   "outputs": [
    {
     "data": {
      "text/plain": [
       "12"
      ]
     },
     "execution_count": 6,
     "metadata": {},
     "output_type": "execute_result"
    }
   ],
   "source": [
    "users_per_day = 10000\n",
    "test_duration = sample_size/users_per_day\n",
    "round(test_duration)"
   ]
  },
  {
   "cell_type": "markdown",
   "metadata": {},
   "source": [
    "### Impact of Removing Dilution\n",
    "\n",
    "When you test a change visible only to users who reach the checkout page (10% of total users), and you remove non-exposed users (users who don't reach checkout), the required sample size decreases significantly.\n",
    "\n",
    "\n",
    "The base conversion rate among that group is 50%, but we only obtain 1,000 of those \"exposed\" users per variant per day. Importantly, this is the only checkout flow, so the conversion rate among non-exposed users is zero.\n"
   ]
  },
  {
   "cell_type": "code",
   "execution_count": 19,
   "metadata": {},
   "outputs": [],
   "source": [
    "checkout_rate = 0.10\n",
    "base_conversion_rate = 0.5\n",
    "relative_mde = base_conversion_rate*0.05"
   ]
  },
  {
   "cell_type": "code",
   "execution_count": 22,
   "metadata": {},
   "outputs": [],
   "source": [
    "elegible_users_per_day = users_per_day * checkout_rate"
   ]
  },
  {
   "cell_type": "code",
   "execution_count": 23,
   "metadata": {},
   "outputs": [],
   "source": [
    "sample_size = 16 * base_conversion_rate*(1-base_conversion_rate)/relative_mde**2"
   ]
  },
  {
   "cell_type": "code",
   "execution_count": 24,
   "metadata": {},
   "outputs": [
    {
     "data": {
      "text/plain": [
       "6.3999999999999995"
      ]
     },
     "execution_count": 24,
     "metadata": {},
     "output_type": "execute_result"
    }
   ],
   "source": [
    "sample_size/elegible_users_per_day"
   ]
  },
  {
   "cell_type": "code",
   "execution_count": null,
   "metadata": {},
   "outputs": [],
   "source": []
  },
  {
   "cell_type": "code",
   "execution_count": null,
   "metadata": {},
   "outputs": [],
   "source": []
  },
  {
   "cell_type": "code",
   "execution_count": null,
   "metadata": {},
   "outputs": [],
   "source": []
  },
  {
   "cell_type": "markdown",
   "metadata": {},
   "source": [
    "# WI"
   ]
  },
  {
   "cell_type": "code",
   "execution_count": 60,
   "metadata": {},
   "outputs": [],
   "source": [
    "n = 1000\n",
    "sample_1 = np.random.normal(loc=1000, scale=65, size=n)\n",
    "sample_2 = np.random.normal(loc=1002, scale=65, size=n)"
   ]
  },
  {
   "cell_type": "code",
   "execution_count": 61,
   "metadata": {},
   "outputs": [
    {
     "data": {
      "image/png": "[encoded data removed]",
      "text/plain": [
       "<Figure size 640x480 with 1 Axes>"
      ]
     },
     "metadata": {},
     "output_type": "display_data"
    }
   ],
   "source": [
    "plt.hist(sample_1, alpha=0.5)\n",
    "plt.hist(sample_2, alpha=0.5)\n",
    "plt.show()"
   ]
  },
  {
   "cell_type": "markdown",
   "metadata": {},
   "source": [
    "$$H_0: \\mu_1 = \\mu_2$$\n",
    "\n",
    "$$H_a: \\mu_1 \\neq \\mu_2$$\n"
   ]
  },
  {
   "cell_type": "code",
   "execution_count": 62,
   "metadata": {},
   "outputs": [],
   "source": [
    "def std_error_difference_in_means(s_1, s_2, n_1, n_2):\n",
    "    return np.sqrt((s_1**2/n_1) + (s_2**2/n_2))\n"
   ]
  },
  {
   "cell_type": "code",
   "execution_count": 77,
   "metadata": {},
   "outputs": [
    {
     "data": {
      "text/plain": [
       "0.01"
      ]
     },
     "execution_count": 77,
     "metadata": {},
     "output_type": "execute_result"
    }
   ],
   "source": [
    "(1010 - 1000) / 1000"
   ]
  },
  {
   "cell_type": "code",
   "execution_count": null,
   "metadata": {},
   "outputs": [],
   "source": []
  },
  {
   "cell_type": "code",
   "execution_count": 96,
   "metadata": {},
   "outputs": [
    {
     "data": {
      "text/plain": [
       "97972.4403928821"
      ]
     },
     "execution_count": 96,
     "metadata": {},
     "output_type": "execute_result"
    }
   ],
   "source": [
    "power_analysis = TTestIndPower()\n",
    "sample_size = power_analysis.solve_power(effect_size=0.01, alpha=0.05, power=0.6, alternative='two-sided')\n",
    "sample_size"
   ]
  },
  {
   "cell_type": "code",
   "execution_count": 97,
   "metadata": {},
   "outputs": [],
   "source": [
    "n = round(sample_size)\n",
    "sample_1 = np.random.normal(loc=1000, scale=65, size=n)\n",
    "sample_2 = np.random.normal(loc=1010, scale=65, size=n)"
   ]
  },
  {
   "cell_type": "code",
   "execution_count": 98,
   "metadata": {},
   "outputs": [
    {
     "data": {
      "text/plain": [
       "np.float64(-33.69497818316843)"
      ]
     },
     "execution_count": 98,
     "metadata": {},
     "output_type": "execute_result"
    }
   ],
   "source": [
    "x_1, s_1 = np.mean(sample_1), np.std(sample_1) \n",
    "x_2, s_2 = np.mean(sample_2), np.std(sample_2)\n",
    "\n",
    "std_error = std_error_difference_in_means(s_1, s_2, n, n)\n",
    "\n",
    "t_statistic = (x_1 - x_2)/ std_error\n",
    "t_statistic\n",
    "\n",
    "\n"
   ]
  },
  {
   "cell_type": "code",
   "execution_count": 99,
   "metadata": {},
   "outputs": [
    {
     "data": {
      "text/plain": [
       "np.float64(1.801436271372218e-247)"
      ]
     },
     "execution_count": 99,
     "metadata": {},
     "output_type": "execute_result"
    }
   ],
   "source": [
    "df = n-1  # Degrees of freedom\n",
    "# Two-tailed p-value\n",
    "p_value_two_tailed = 2 * t.sf(abs(t_statistic), df)\n",
    "p_value_two_tailed"
   ]
  },
  {
   "cell_type": "code",
   "execution_count": 100,
   "metadata": {},
   "outputs": [],
   "source": [
    "p_value_lst = []\n",
    "test_lst = []\n",
    "\n",
    "for i in range(1000):\n",
    "    n = round(sample_size)\n",
    "    sample_1 = np.random.normal(loc=1000, scale=65, size=n)\n",
    "    sample_2 = np.random.normal(loc=1010, scale=65, size=n)\n",
    "    x_1, s_1 = np.mean(sample_1), np.std(sample_1) \n",
    "    x_2, s_2 = np.mean(sample_2), np.std(sample_2)\n",
    "    std_error = std_error_difference_in_means(s_1, s_2, n, n)\n",
    "    t_statistic = (x_1 - x_2)/ std_error\n",
    "    df = n-1  # Degrees of freedom\n",
    "    p_value_two_tailed = 2 * t.sf(abs(t_statistic), df)\n",
    "    p_value_two_tailed\n",
    "\n",
    "    p_value_lst.append(p_value_two_tailed)\n",
    "    test_lst.append(i)\n"
   ]
  },
  {
   "cell_type": "code",
   "execution_count": null,
   "metadata": {},
   "outputs": [],
   "source": []
  }
 ],
 "metadata": {
  "kernelspec": {
   "display_name": "Python 3",
   "language": "python",
   "name": "python3"
  },
  "language_info": {
   "codemirror_mode": {
    "name": "ipython",
    "version": 3
   },
   "file_extension": ".py",
   "mimetype": "text/x-python",
   "name": "python",
   "nbconvert_exporter": "python",
   "pygments_lexer": "ipython3",
   "version": "3.12.1"
  }
 },
 "nbformat": 4,
 "nbformat_minor": 2
}
