{
  "nbformat": 4,
  "nbformat_minor": 0,
  "metadata": {
    "colab": {
      "provenance": [],
      "authorship_tag": "ABX9TyP0uPcwYT+51jo7AhtSSLV+",
      "include_colab_link": true
    },
    "kernelspec": {
      "name": "python3",
      "display_name": "Python 3"
    },
    "language_info": {
      "name": "python"
    }
  },
  "cells": [
    {
      "cell_type": "markdown",
      "metadata": {
        "id": "view-in-github",
        "colab_type": "text"
      },
      "source": [
        "<a href=\"https://colab.research.google.com/github/juanpi19/medium-articles/blob/main/heterogeneous-treatment-effect/meta_learners.ipynb\" target=\"_parent\"><img src=\"https://colab.research.google.com/assets/colab-badge.svg\" alt=\"Open In Colab\"/></a>"
      ]
    },
    {
      "cell_type": "code",
      "execution_count": 175,
      "metadata": {
        "id": "N7NYlYnd9ee5"
      },
      "outputs": [],
      "source": [
        "import pandas as pd\n",
        "import numpy as np\n",
        "import matplotlib.pyplot as plt\n",
        "import seaborn as sns\n",
        "plt.style.use(\"ggplot\")\n",
        "\n",
        "import statsmodels.formula.api as smf\n",
        "from sklearn.linear_model import LogisticRegression\n",
        "import xgboost"
      ]
    },
    {
      "cell_type": "code",
      "source": [
        "df = pd.read_csv(\"Sample - Superstore.csv\", encoding='ISO-8859-1')"
      ],
      "metadata": {
        "id": "uTMDKtU_92ZJ"
      },
      "execution_count": 51,
      "outputs": []
    },
    {
      "cell_type": "code",
      "source": [
        "df.head(1)"
      ],
      "metadata": {
        "colab": {
          "base_uri": "https://localhost:8080/",
          "height": 182
        },
        "id": "P5iw55mR5nd3",
        "outputId": "86b3d8ba-17c9-40eb-f406-c912826a9be3"
      },
      "execution_count": 176,
      "outputs": [
        {
          "output_type": "execute_result",
          "data": {
            "text/plain": [
              "   Row ID        Order ID Order Date   Ship Date     Ship Mode Customer ID  \\\n",
              "0       1  CA-2016-152156 2016-11-08  11/11/2016  Second Class    CG-12520   \n",
              "\n",
              "  Customer Name   Segment        Country       City  ... month  weekday  year  \\\n",
              "0   Claire Gute  Consumer  United States  Henderson  ...    11        1  2016   \n",
              "\n",
              "  discount   price   margin unit_cost  t_learner_cate   q0_pred  rel_lift  \n",
              "0        0  130.98  20.9568  110.0232        0.148943  3.344031   0.04454  \n",
              "\n",
              "[1 rows x 31 columns]"
            ],
            "text/html": [
              "\n",
              "  <div id=\"df-40bc3f1e-15d3-4232-80a2-cbf391f5e78a\" class=\"colab-df-container\">\n",
              "    <div>\n",
              "<style scoped>\n",
              "    .dataframe tbody tr th:only-of-type {\n",
              "        vertical-align: middle;\n",
              "    }\n",
              "\n",
              "    .dataframe tbody tr th {\n",
              "        vertical-align: top;\n",
              "    }\n",
              "\n",
              "    .dataframe thead th {\n",
              "        text-align: right;\n",
              "    }\n",
              "</style>\n",
              "<table border=\"1\" class=\"dataframe\">\n",
              "  <thead>\n",
              "    <tr style=\"text-align: right;\">\n",
              "      <th></th>\n",
              "      <th>Row ID</th>\n",
              "      <th>Order ID</th>\n",
              "      <th>Order Date</th>\n",
              "      <th>Ship Date</th>\n",
              "      <th>Ship Mode</th>\n",
              "      <th>Customer ID</th>\n",
              "      <th>Customer Name</th>\n",
              "      <th>Segment</th>\n",
              "      <th>Country</th>\n",
              "      <th>City</th>\n",
              "      <th>...</th>\n",
              "      <th>month</th>\n",
              "      <th>weekday</th>\n",
              "      <th>year</th>\n",
              "      <th>discount</th>\n",
              "      <th>price</th>\n",
              "      <th>margin</th>\n",
              "      <th>unit_cost</th>\n",
              "      <th>t_learner_cate</th>\n",
              "      <th>q0_pred</th>\n",
              "      <th>rel_lift</th>\n",
              "    </tr>\n",
              "  </thead>\n",
              "  <tbody>\n",
              "    <tr>\n",
              "      <th>0</th>\n",
              "      <td>1</td>\n",
              "      <td>CA-2016-152156</td>\n",
              "      <td>2016-11-08</td>\n",
              "      <td>11/11/2016</td>\n",
              "      <td>Second Class</td>\n",
              "      <td>CG-12520</td>\n",
              "      <td>Claire Gute</td>\n",
              "      <td>Consumer</td>\n",
              "      <td>United States</td>\n",
              "      <td>Henderson</td>\n",
              "      <td>...</td>\n",
              "      <td>11</td>\n",
              "      <td>1</td>\n",
              "      <td>2016</td>\n",
              "      <td>0</td>\n",
              "      <td>130.98</td>\n",
              "      <td>20.9568</td>\n",
              "      <td>110.0232</td>\n",
              "      <td>0.148943</td>\n",
              "      <td>3.344031</td>\n",
              "      <td>0.04454</td>\n",
              "    </tr>\n",
              "  </tbody>\n",
              "</table>\n",
              "<p>1 rows × 31 columns</p>\n",
              "</div>\n",
              "    <div class=\"colab-df-buttons\">\n",
              "\n",
              "  <div class=\"colab-df-container\">\n",
              "    <button class=\"colab-df-convert\" onclick=\"convertToInteractive('df-40bc3f1e-15d3-4232-80a2-cbf391f5e78a')\"\n",
              "            title=\"Convert this dataframe to an interactive table.\"\n",
              "            style=\"display:none;\">\n",
              "\n",
              "  <svg xmlns=\"http://www.w3.org/2000/svg\" height=\"24px\" viewBox=\"0 -960 960 960\">\n",
              "    <path d=\"M120-120v-720h720v720H120Zm60-500h600v-160H180v160Zm220 220h160v-160H400v160Zm0 220h160v-160H400v160ZM180-400h160v-160H180v160Zm440 0h160v-160H620v160ZM180-180h160v-160H180v160Zm440 0h160v-160H620v160Z\"/>\n",
              "  </svg>\n",
              "    </button>\n",
              "\n",
              "  <style>\n",
              "    .colab-df-container {\n",
              "      display:flex;\n",
              "      gap: 12px;\n",
              "    }\n",
              "\n",
              "    .colab-df-convert {\n",
              "      background-color: #E8F0FE;\n",
              "      border: none;\n",
              "      border-radius: 50%;\n",
              "      cursor: pointer;\n",
              "      display: none;\n",
              "      fill: #1967D2;\n",
              "      height: 32px;\n",
              "      padding: 0 0 0 0;\n",
              "      width: 32px;\n",
              "    }\n",
              "\n",
              "    .colab-df-convert:hover {\n",
              "      background-color: #E2EBFA;\n",
              "      box-shadow: 0px 1px 2px rgba(60, 64, 67, 0.3), 0px 1px 3px 1px rgba(60, 64, 67, 0.15);\n",
              "      fill: #174EA6;\n",
              "    }\n",
              "\n",
              "    .colab-df-buttons div {\n",
              "      margin-bottom: 4px;\n",
              "    }\n",
              "\n",
              "    [theme=dark] .colab-df-convert {\n",
              "      background-color: #3B4455;\n",
              "      fill: #D2E3FC;\n",
              "    }\n",
              "\n",
              "    [theme=dark] .colab-df-convert:hover {\n",
              "      background-color: #434B5C;\n",
              "      box-shadow: 0px 1px 3px 1px rgba(0, 0, 0, 0.15);\n",
              "      filter: drop-shadow(0px 1px 2px rgba(0, 0, 0, 0.3));\n",
              "      fill: #FFFFFF;\n",
              "    }\n",
              "  </style>\n",
              "\n",
              "    <script>\n",
              "      const buttonEl =\n",
              "        document.querySelector('#df-40bc3f1e-15d3-4232-80a2-cbf391f5e78a button.colab-df-convert');\n",
              "      buttonEl.style.display =\n",
              "        google.colab.kernel.accessAllowed ? 'block' : 'none';\n",
              "\n",
              "      async function convertToInteractive(key) {\n",
              "        const element = document.querySelector('#df-40bc3f1e-15d3-4232-80a2-cbf391f5e78a');\n",
              "        const dataTable =\n",
              "          await google.colab.kernel.invokeFunction('convertToInteractive',\n",
              "                                                    [key], {});\n",
              "        if (!dataTable) return;\n",
              "\n",
              "        const docLinkHtml = 'Like what you see? Visit the ' +\n",
              "          '<a target=\"_blank\" href=https://colab.research.google.com/notebooks/data_table.ipynb>data table notebook</a>'\n",
              "          + ' to learn more about interactive tables.';\n",
              "        element.innerHTML = '';\n",
              "        dataTable['output_type'] = 'display_data';\n",
              "        await google.colab.output.renderOutput(dataTable, element);\n",
              "        const docLink = document.createElement('div');\n",
              "        docLink.innerHTML = docLinkHtml;\n",
              "        element.appendChild(docLink);\n",
              "      }\n",
              "    </script>\n",
              "  </div>\n",
              "\n",
              "\n",
              "    </div>\n",
              "  </div>\n"
            ],
            "application/vnd.google.colaboratory.intrinsic+json": {
              "type": "dataframe",
              "variable_name": "df"
            }
          },
          "metadata": {},
          "execution_count": 176
        }
      ]
    },
    {
      "cell_type": "markdown",
      "source": [
        "# How does discount impact Quantity sold? Does the discount work better on some customers than others?"
      ],
      "metadata": {
        "id": "LNmvxZ1j_8C9"
      }
    },
    {
      "cell_type": "code",
      "source": [
        "df['Order Date'] = pd.to_datetime(df['Order Date'])\n",
        "df['month'] = df['Order Date'].dt.month\n",
        "df['weekday'] = df['Order Date'].dt.weekday\n",
        "df['year'] = df['Order Date'].dt.year\n",
        "\n",
        "df.head(1)"
      ],
      "metadata": {
        "colab": {
          "base_uri": "https://localhost:8080/",
          "height": 182
        },
        "id": "BEUlv8JQ_iXu",
        "outputId": "efca888e-be4a-40fa-8ebc-94472bd0d3b8"
      },
      "execution_count": 172,
      "outputs": [
        {
          "output_type": "execute_result",
          "data": {
            "text/plain": [
              "   Row ID        Order ID Order Date   Ship Date     Ship Mode Customer ID  \\\n",
              "0       1  CA-2016-152156 2016-11-08  11/11/2016  Second Class    CG-12520   \n",
              "\n",
              "  Customer Name   Segment        Country       City  ... month  weekday  year  \\\n",
              "0   Claire Gute  Consumer  United States  Henderson  ...    11        1  2016   \n",
              "\n",
              "  discount   price   margin unit_cost  t_learner_cate   q0_pred  rel_lift  \n",
              "0        0  130.98  20.9568  110.0232        0.148943  3.344031   0.04454  \n",
              "\n",
              "[1 rows x 31 columns]"
            ],
            "text/html": [
              "\n",
              "  <div id=\"df-eb9eb9f5-c864-4861-b5b9-d7f1f073e4b3\" class=\"colab-df-container\">\n",
              "    <div>\n",
              "<style scoped>\n",
              "    .dataframe tbody tr th:only-of-type {\n",
              "        vertical-align: middle;\n",
              "    }\n",
              "\n",
              "    .dataframe tbody tr th {\n",
              "        vertical-align: top;\n",
              "    }\n",
              "\n",
              "    .dataframe thead th {\n",
              "        text-align: right;\n",
              "    }\n",
              "</style>\n",
              "<table border=\"1\" class=\"dataframe\">\n",
              "  <thead>\n",
              "    <tr style=\"text-align: right;\">\n",
              "      <th></th>\n",
              "      <th>Row ID</th>\n",
              "      <th>Order ID</th>\n",
              "      <th>Order Date</th>\n",
              "      <th>Ship Date</th>\n",
              "      <th>Ship Mode</th>\n",
              "      <th>Customer ID</th>\n",
              "      <th>Customer Name</th>\n",
              "      <th>Segment</th>\n",
              "      <th>Country</th>\n",
              "      <th>City</th>\n",
              "      <th>...</th>\n",
              "      <th>month</th>\n",
              "      <th>weekday</th>\n",
              "      <th>year</th>\n",
              "      <th>discount</th>\n",
              "      <th>price</th>\n",
              "      <th>margin</th>\n",
              "      <th>unit_cost</th>\n",
              "      <th>t_learner_cate</th>\n",
              "      <th>q0_pred</th>\n",
              "      <th>rel_lift</th>\n",
              "    </tr>\n",
              "  </thead>\n",
              "  <tbody>\n",
              "    <tr>\n",
              "      <th>0</th>\n",
              "      <td>1</td>\n",
              "      <td>CA-2016-152156</td>\n",
              "      <td>2016-11-08</td>\n",
              "      <td>11/11/2016</td>\n",
              "      <td>Second Class</td>\n",
              "      <td>CG-12520</td>\n",
              "      <td>Claire Gute</td>\n",
              "      <td>Consumer</td>\n",
              "      <td>United States</td>\n",
              "      <td>Henderson</td>\n",
              "      <td>...</td>\n",
              "      <td>11</td>\n",
              "      <td>1</td>\n",
              "      <td>2016</td>\n",
              "      <td>0</td>\n",
              "      <td>130.98</td>\n",
              "      <td>20.9568</td>\n",
              "      <td>110.0232</td>\n",
              "      <td>0.148943</td>\n",
              "      <td>3.344031</td>\n",
              "      <td>0.04454</td>\n",
              "    </tr>\n",
              "  </tbody>\n",
              "</table>\n",
              "<p>1 rows × 31 columns</p>\n",
              "</div>\n",
              "    <div class=\"colab-df-buttons\">\n",
              "\n",
              "  <div class=\"colab-df-container\">\n",
              "    <button class=\"colab-df-convert\" onclick=\"convertToInteractive('df-eb9eb9f5-c864-4861-b5b9-d7f1f073e4b3')\"\n",
              "            title=\"Convert this dataframe to an interactive table.\"\n",
              "            style=\"display:none;\">\n",
              "\n",
              "  <svg xmlns=\"http://www.w3.org/2000/svg\" height=\"24px\" viewBox=\"0 -960 960 960\">\n",
              "    <path d=\"M120-120v-720h720v720H120Zm60-500h600v-160H180v160Zm220 220h160v-160H400v160Zm0 220h160v-160H400v160ZM180-400h160v-160H180v160Zm440 0h160v-160H620v160ZM180-180h160v-160H180v160Zm440 0h160v-160H620v160Z\"/>\n",
              "  </svg>\n",
              "    </button>\n",
              "\n",
              "  <style>\n",
              "    .colab-df-container {\n",
              "      display:flex;\n",
              "      gap: 12px;\n",
              "    }\n",
              "\n",
              "    .colab-df-convert {\n",
              "      background-color: #E8F0FE;\n",
              "      border: none;\n",
              "      border-radius: 50%;\n",
              "      cursor: pointer;\n",
              "      display: none;\n",
              "      fill: #1967D2;\n",
              "      height: 32px;\n",
              "      padding: 0 0 0 0;\n",
              "      width: 32px;\n",
              "    }\n",
              "\n",
              "    .colab-df-convert:hover {\n",
              "      background-color: #E2EBFA;\n",
              "      box-shadow: 0px 1px 2px rgba(60, 64, 67, 0.3), 0px 1px 3px 1px rgba(60, 64, 67, 0.15);\n",
              "      fill: #174EA6;\n",
              "    }\n",
              "\n",
              "    .colab-df-buttons div {\n",
              "      margin-bottom: 4px;\n",
              "    }\n",
              "\n",
              "    [theme=dark] .colab-df-convert {\n",
              "      background-color: #3B4455;\n",
              "      fill: #D2E3FC;\n",
              "    }\n",
              "\n",
              "    [theme=dark] .colab-df-convert:hover {\n",
              "      background-color: #434B5C;\n",
              "      box-shadow: 0px 1px 3px 1px rgba(0, 0, 0, 0.15);\n",
              "      filter: drop-shadow(0px 1px 2px rgba(0, 0, 0, 0.3));\n",
              "      fill: #FFFFFF;\n",
              "    }\n",
              "  </style>\n",
              "\n",
              "    <script>\n",
              "      const buttonEl =\n",
              "        document.querySelector('#df-eb9eb9f5-c864-4861-b5b9-d7f1f073e4b3 button.colab-df-convert');\n",
              "      buttonEl.style.display =\n",
              "        google.colab.kernel.accessAllowed ? 'block' : 'none';\n",
              "\n",
              "      async function convertToInteractive(key) {\n",
              "        const element = document.querySelector('#df-eb9eb9f5-c864-4861-b5b9-d7f1f073e4b3');\n",
              "        const dataTable =\n",
              "          await google.colab.kernel.invokeFunction('convertToInteractive',\n",
              "                                                    [key], {});\n",
              "        if (!dataTable) return;\n",
              "\n",
              "        const docLinkHtml = 'Like what you see? Visit the ' +\n",
              "          '<a target=\"_blank\" href=https://colab.research.google.com/notebooks/data_table.ipynb>data table notebook</a>'\n",
              "          + ' to learn more about interactive tables.';\n",
              "        element.innerHTML = '';\n",
              "        dataTable['output_type'] = 'display_data';\n",
              "        await google.colab.output.renderOutput(dataTable, element);\n",
              "        const docLink = document.createElement('div');\n",
              "        docLink.innerHTML = docLinkHtml;\n",
              "        element.appendChild(docLink);\n",
              "      }\n",
              "    </script>\n",
              "  </div>\n",
              "\n",
              "\n",
              "    </div>\n",
              "  </div>\n"
            ],
            "application/vnd.google.colaboratory.intrinsic+json": {
              "type": "dataframe",
              "variable_name": "df"
            }
          },
          "metadata": {},
          "execution_count": 172
        }
      ]
    },
    {
      "cell_type": "code",
      "source": [
        "# binarize treatment\n",
        "df['discount'] = np.where(df['Discount'] > 0, 1, 0)\n",
        "df['price']  = df['Sales']  / df['Quantity']\n",
        "df['margin'] = df['Profit'] / df['Quantity']\n",
        "df['unit_cost'] = df['price'] - df['margin']"
      ],
      "metadata": {
        "id": "OAJEwaLKdnaN"
      },
      "execution_count": 122,
      "outputs": []
    },
    {
      "cell_type": "markdown",
      "source": [
        "# One-hot encoding"
      ],
      "metadata": {
        "id": "JaYztqoZy8mW"
      }
    },
    {
      "cell_type": "code",
      "source": [
        "y = 'Quantity'\n",
        "w = 'discount'\n",
        "X_cat = ['Segment', 'State', 'Category', 'Ship Mode']\n",
        "X_cont = ['price', 'month', 'weekday']\n",
        "\n",
        "temp_df = (\n",
        "    df[['Row ID', w, y] + X_cont + X_cat]\n",
        "      .pipe(pd.get_dummies, columns=X_cat, dtype=int, drop_first=True)\n",
        "      .copy()\n",
        ")\n",
        "\n",
        "df_0 = temp_df[temp_df[w] == 0].copy()\n",
        "df_1 = temp_df[temp_df[w] == 1].copy()\n",
        "\n",
        "X_0 = df_0.drop(['Row ID', y, w], axis=1)\n",
        "y_0 = df_0[y]\n",
        "X_1 = df_1.drop(['Row ID', y, w], axis=1)\n",
        "y_1 = df_1[y]"
      ],
      "metadata": {
        "id": "yzTgRVAWy3JF"
      },
      "execution_count": 137,
      "outputs": []
    },
    {
      "cell_type": "markdown",
      "source": [
        "# First Stage Outcome Model"
      ],
      "metadata": {
        "id": "RL8d-DnBzMMn"
      }
    },
    {
      "cell_type": "code",
      "source": [
        "t_0 = xgboost.XGBRegressor(random_state=0).fit(X_0, y_0)  # outcome model when no discount\n",
        "t_1 = xgboost.XGBRegressor(random_state=0).fit(X_1, y_1)  # outcome model when discount"
      ],
      "metadata": {
        "id": "rB8tdqPUzO2h"
      },
      "execution_count": 138,
      "outputs": []
    },
    {
      "cell_type": "markdown",
      "source": [
        "### T - Learner estimator"
      ],
      "metadata": {
        "id": "lx3Y19Ydw26c"
      }
    },
    {
      "cell_type": "code",
      "source": [
        "X_all = X_0.columns\n",
        "\n",
        "# Counterfactual prediction for each treatment and obtain CATE\n",
        "t_learner_cate = t_1.predict(temp_df[X_all]) - t_0.predict(temp_df[X_all])"
      ],
      "metadata": {
        "id": "lLFsyqCsp7D6"
      },
      "execution_count": 139,
      "outputs": []
    },
    {
      "cell_type": "code",
      "source": [
        "df['t_learner_cate'] = t_learner_cate\n",
        "df['q0_pred']  = t_0.predict(temp_df[X_all])\n",
        "df['rel_lift'] = temp_df['t_learner_cate']/temp_df['q0_pred']"
      ],
      "metadata": {
        "id": "EYcB6H8JrRfc"
      },
      "execution_count": 154,
      "outputs": []
    },
    {
      "cell_type": "code",
      "source": [
        "df2 = df.groupby('Customer ID')[['q0_pred', 'rel_lift']].mean()"
      ],
      "metadata": {
        "id": "qi69yMlM9P6c"
      },
      "execution_count": 169,
      "outputs": []
    },
    {
      "cell_type": "code",
      "source": [
        "plt.figure(figsize=(7, 4))\n",
        "lift = df[\"rel_lift\"]\n",
        "\n",
        "sns.histplot(lift,\n",
        "             bins=40,\n",
        "             kde=True,\n",
        "             stat=\"density\",\n",
        "             color=\"steelblue\",\n",
        "             alpha=0.6)\n",
        "\n",
        "plt.axvline(0, c=\"red\", ls=\"--\", label=\"No effect\")\n",
        "plt.axvline(0.30, c=\"orange\", ls=\"--\", label=\"≈ break-even for 20 % discount\")  # tweak if needed\n",
        "\n",
        "plt.title(\"Distribution of Price Elasticity (Relative-Lift Index)\")\n",
        "plt.xlabel(\"Relative lift  (CATE ÷ baseline demand)\")          # add “(%)” if you scaled\n",
        "plt.ylabel(\"Density\")\n",
        "plt.legend()\n",
        "plt.tight_layout()\n",
        "plt.show()"
      ],
      "metadata": {
        "colab": {
          "base_uri": "https://localhost:8080/",
          "height": 407
        },
        "id": "Xy8Y57rdtXwi",
        "outputId": "b26e5bbd-4ea7-4a1a-a166-a2d3e1017bb0"
      },
      "execution_count": 177,
      "outputs": [
        {
          "output_type": "display_data",
          "data": {
            "text/plain": [
              "<Figure size 700x400 with 1 Axes>"
            ],
            "image/png": "[encoded data removed]"
          },
          "metadata": {}
        }
      ]
    },
    {
      "cell_type": "markdown",
      "source": [
        "# X - Learner"
      ],
      "metadata": {
        "id": "KszTvlw1rarU"
      }
    },
    {
      "cell_type": "markdown",
      "source": [
        "# Compute Treatment Effects"
      ],
      "metadata": {
        "id": "9xtHot6UzU3l"
      }
    },
    {
      "cell_type": "code",
      "source": [
        "df_1['y0_hat'] = t_0.predict(X_1)\n",
        "df_0['y1_hat'] = t_1.predict(X_0)\n",
        "\n",
        "df_1['d1'] = df_1[y] - df_1['y0_hat']      # treated rows\n",
        "df_0['d0'] = df_0['y1_hat'] - df_0[y]      # control rows"
      ],
      "metadata": {
        "id": "SZJhycULzQCf"
      },
      "execution_count": 124,
      "outputs": []
    },
    {
      "cell_type": "markdown",
      "source": [
        "# Second Stage Model"
      ],
      "metadata": {
        "id": "BjtVcdhJzeJE"
      }
    },
    {
      "cell_type": "code",
      "source": [
        "g_1 = xgboost.XGBRegressor(random_state=0).fit(X_1, df_1['d1'])\n",
        "g_0 = xgboost.XGBRegressor(random_state=0).fit(X_0, df_0['d0'])"
      ],
      "metadata": {
        "id": "SWGJ4NvkzP3w"
      },
      "execution_count": 125,
      "outputs": []
    },
    {
      "cell_type": "markdown",
      "source": [
        "# Propensity Score & CATE prediction"
      ],
      "metadata": {
        "id": "HI81JJ8gzlBZ"
      }
    },
    {
      "cell_type": "code",
      "source": [
        "# propensity score for every row\n",
        "prop_clf = LogisticRegression(penalty=None, solver='lbfgs', max_iter=1000)\n",
        "prop_clf.fit(temp_df.drop(['Row ID', y], axis=1), temp_df[w])\n",
        "pi = prop_clf.predict_proba(temp_df.drop(['Row ID', y], axis=1))[:, 1]\n",
        "\n",
        "# CATE per row\n",
        "X_all = temp_df.drop(['Row ID', y, w], axis=1)\n",
        "tau_hat = (1 - pi) * g_1.predict(X_all) + pi * g_0.predict(X_all)\n",
        "\n",
        "temp_df['tau_pred'] = tau_hat\n",
        "temp_df['q0_pred']  = t_0.predict(X_all)"
      ],
      "metadata": {
        "id": "vmTJRDBxzmVU"
      },
      "execution_count": 126,
      "outputs": []
    },
    {
      "cell_type": "markdown",
      "source": [
        "# Business Value"
      ],
      "metadata": {
        "id": "Mhx10vgKz2m0"
      }
    },
    {
      "cell_type": "code",
      "source": [
        "# final_df = (\n",
        "#     temp_df.merge(df[['Row ID', 'Sales', 'Profit']], on='Row ID')\n",
        "# )\n",
        "\n",
        "# # price & cost estimation\n",
        "# final_df['price']  = final_df['Sales']  / final_df['Quantity']\n",
        "# final_df['margin'] = final_df['Profit'] / final_df['Quantity']\n",
        "# final_df['unit_cost'] = final_df['price'] - final_df['margin']\n",
        "# c = final_df['unit_cost'].median()\n",
        "\n",
        "# # --- Business parameters ---------------------------------------\n",
        "# P = final_df.loc[final_df['discount'] == 0, 'price'].median()   # list price\n",
        "# d = 0.20                                                       # 20 % discount\n",
        "\n",
        "\n",
        "# extra_unit_margin = P * (1 - d) - c\n",
        "\n",
        "# # incremental profit per row\n",
        "# final_df['delta_profit'] = (\n",
        "#         final_df['tau_pred'] * extra_unit_margin\n",
        "#       - final_df['q0_pred']  * P * d\n",
        "# )\n",
        "\n",
        "# # Decision: offer discount if Δprofit > 0\n",
        "# final_df['offer_discount'] = (final_df['delta_profit'] > 0).astype(int)\n",
        "# final_df[['Row ID', 'tau_pred', 'q0_pred', 'delta_profit', 'offer_discount']].head()"
      ],
      "metadata": {
        "colab": {
          "base_uri": "https://localhost:8080/",
          "height": 206
        },
        "id": "nB_SyB-gz4cy",
        "outputId": "5db0d2a0-a803-411c-e8ae-4f97ad9ac828"
      },
      "execution_count": 127,
      "outputs": [
        {
          "output_type": "execute_result",
          "data": {
            "text/plain": [
              "   Row ID  tau_pred   q0_pred  delta_profit  offer_discount\n",
              "0       1 -0.329514  3.670901    -11.687892               0\n",
              "1       2 -0.329514  3.670901    -11.687892               0\n",
              "2       3 -0.338143  3.754805    -11.954878               0\n",
              "3       4 -0.370569  3.964242    -12.619726               0\n",
              "4       5 -0.124122  3.856807    -12.312141               0"
            ],
            "text/html": [
              "\n",
              "  <div id=\"df-98918ec1-3e1a-4a9d-a195-521853f8b450\" class=\"colab-df-container\">\n",
              "    <div>\n",
              "<style scoped>\n",
              "    .dataframe tbody tr th:only-of-type {\n",
              "        vertical-align: middle;\n",
              "    }\n",
              "\n",
              "    .dataframe tbody tr th {\n",
              "        vertical-align: top;\n",
              "    }\n",
              "\n",
              "    .dataframe thead th {\n",
              "        text-align: right;\n",
              "    }\n",
              "</style>\n",
              "<table border=\"1\" class=\"dataframe\">\n",
              "  <thead>\n",
              "    <tr style=\"text-align: right;\">\n",
              "      <th></th>\n",
              "      <th>Row ID</th>\n",
              "      <th>tau_pred</th>\n",
              "      <th>q0_pred</th>\n",
              "      <th>delta_profit</th>\n",
              "      <th>offer_discount</th>\n",
              "    </tr>\n",
              "  </thead>\n",
              "  <tbody>\n",
              "    <tr>\n",
              "      <th>0</th>\n",
              "      <td>1</td>\n",
              "      <td>-0.329514</td>\n",
              "      <td>3.670901</td>\n",
              "      <td>-11.687892</td>\n",
              "      <td>0</td>\n",
              "    </tr>\n",
              "    <tr>\n",
              "      <th>1</th>\n",
              "      <td>2</td>\n",
              "      <td>-0.329514</td>\n",
              "      <td>3.670901</td>\n",
              "      <td>-11.687892</td>\n",
              "      <td>0</td>\n",
              "    </tr>\n",
              "    <tr>\n",
              "      <th>2</th>\n",
              "      <td>3</td>\n",
              "      <td>-0.338143</td>\n",
              "      <td>3.754805</td>\n",
              "      <td>-11.954878</td>\n",
              "      <td>0</td>\n",
              "    </tr>\n",
              "    <tr>\n",
              "      <th>3</th>\n",
              "      <td>4</td>\n",
              "      <td>-0.370569</td>\n",
              "      <td>3.964242</td>\n",
              "      <td>-12.619726</td>\n",
              "      <td>0</td>\n",
              "    </tr>\n",
              "    <tr>\n",
              "      <th>4</th>\n",
              "      <td>5</td>\n",
              "      <td>-0.124122</td>\n",
              "      <td>3.856807</td>\n",
              "      <td>-12.312141</td>\n",
              "      <td>0</td>\n",
              "    </tr>\n",
              "  </tbody>\n",
              "</table>\n",
              "</div>\n",
              "    <div class=\"colab-df-buttons\">\n",
              "\n",
              "  <div class=\"colab-df-container\">\n",
              "    <button class=\"colab-df-convert\" onclick=\"convertToInteractive('df-98918ec1-3e1a-4a9d-a195-521853f8b450')\"\n",
              "            title=\"Convert this dataframe to an interactive table.\"\n",
              "            style=\"display:none;\">\n",
              "\n",
              "  <svg xmlns=\"http://www.w3.org/2000/svg\" height=\"24px\" viewBox=\"0 -960 960 960\">\n",
              "    <path d=\"M120-120v-720h720v720H120Zm60-500h600v-160H180v160Zm220 220h160v-160H400v160Zm0 220h160v-160H400v160ZM180-400h160v-160H180v160Zm440 0h160v-160H620v160ZM180-180h160v-160H180v160Zm440 0h160v-160H620v160Z\"/>\n",
              "  </svg>\n",
              "    </button>\n",
              "\n",
              "  <style>\n",
              "    .colab-df-container {\n",
              "      display:flex;\n",
              "      gap: 12px;\n",
              "    }\n",
              "\n",
              "    .colab-df-convert {\n",
              "      background-color: #E8F0FE;\n",
              "      border: none;\n",
              "      border-radius: 50%;\n",
              "      cursor: pointer;\n",
              "      display: none;\n",
              "      fill: #1967D2;\n",
              "      height: 32px;\n",
              "      padding: 0 0 0 0;\n",
              "      width: 32px;\n",
              "    }\n",
              "\n",
              "    .colab-df-convert:hover {\n",
              "      background-color: #E2EBFA;\n",
              "      box-shadow: 0px 1px 2px rgba(60, 64, 67, 0.3), 0px 1px 3px 1px rgba(60, 64, 67, 0.15);\n",
              "      fill: #174EA6;\n",
              "    }\n",
              "\n",
              "    .colab-df-buttons div {\n",
              "      margin-bottom: 4px;\n",
              "    }\n",
              "\n",
              "    [theme=dark] .colab-df-convert {\n",
              "      background-color: #3B4455;\n",
              "      fill: #D2E3FC;\n",
              "    }\n",
              "\n",
              "    [theme=dark] .colab-df-convert:hover {\n",
              "      background-color: #434B5C;\n",
              "      box-shadow: 0px 1px 3px 1px rgba(0, 0, 0, 0.15);\n",
              "      filter: drop-shadow(0px 1px 2px rgba(0, 0, 0, 0.3));\n",
              "      fill: #FFFFFF;\n",
              "    }\n",
              "  </style>\n",
              "\n",
              "    <script>\n",
              "      const buttonEl =\n",
              "        document.querySelector('#df-98918ec1-3e1a-4a9d-a195-521853f8b450 button.colab-df-convert');\n",
              "      buttonEl.style.display =\n",
              "        google.colab.kernel.accessAllowed ? 'block' : 'none';\n",
              "\n",
              "      async function convertToInteractive(key) {\n",
              "        const element = document.querySelector('#df-98918ec1-3e1a-4a9d-a195-521853f8b450');\n",
              "        const dataTable =\n",
              "          await google.colab.kernel.invokeFunction('convertToInteractive',\n",
              "                                                    [key], {});\n",
              "        if (!dataTable) return;\n",
              "\n",
              "        const docLinkHtml = 'Like what you see? Visit the ' +\n",
              "          '<a target=\"_blank\" href=https://colab.research.google.com/notebooks/data_table.ipynb>data table notebook</a>'\n",
              "          + ' to learn more about interactive tables.';\n",
              "        element.innerHTML = '';\n",
              "        dataTable['output_type'] = 'display_data';\n",
              "        await google.colab.output.renderOutput(dataTable, element);\n",
              "        const docLink = document.createElement('div');\n",
              "        docLink.innerHTML = docLinkHtml;\n",
              "        element.appendChild(docLink);\n",
              "      }\n",
              "    </script>\n",
              "  </div>\n",
              "\n",
              "\n",
              "    <div id=\"df-4875c9c3-b1f5-443c-913b-c8fb9caffb0e\">\n",
              "      <button class=\"colab-df-quickchart\" onclick=\"quickchart('df-4875c9c3-b1f5-443c-913b-c8fb9caffb0e')\"\n",
              "                title=\"Suggest charts\"\n",
              "                style=\"display:none;\">\n",
              "\n",
              "<svg xmlns=\"http://www.w3.org/2000/svg\" height=\"24px\"viewBox=\"0 0 24 24\"\n",
              "     width=\"24px\">\n",
              "    <g>\n",
              "        <path d=\"M19 3H5c-1.1 0-2 .9-2 2v14c0 1.1.9 2 2 2h14c1.1 0 2-.9 2-2V5c0-1.1-.9-2-2-2zM9 17H7v-7h2v7zm4 0h-2V7h2v10zm4 0h-2v-4h2v4z\"/>\n",
              "    </g>\n",
              "</svg>\n",
              "      </button>\n",
              "\n",
              "<style>\n",
              "  .colab-df-quickchart {\n",
              "      --bg-color: #E8F0FE;\n",
              "      --fill-color: #1967D2;\n",
              "      --hover-bg-color: #E2EBFA;\n",
              "      --hover-fill-color: #174EA6;\n",
              "      --disabled-fill-color: #AAA;\n",
              "      --disabled-bg-color: #DDD;\n",
              "  }\n",
              "\n",
              "  [theme=dark] .colab-df-quickchart {\n",
              "      --bg-color: #3B4455;\n",
              "      --fill-color: #D2E3FC;\n",
              "      --hover-bg-color: #434B5C;\n",
              "      --hover-fill-color: #FFFFFF;\n",
              "      --disabled-bg-color: #3B4455;\n",
              "      --disabled-fill-color: #666;\n",
              "  }\n",
              "\n",
              "  .colab-df-quickchart {\n",
              "    background-color: var(--bg-color);\n",
              "    border: none;\n",
              "    border-radius: 50%;\n",
              "    cursor: pointer;\n",
              "    display: none;\n",
              "    fill: var(--fill-color);\n",
              "    height: 32px;\n",
              "    padding: 0;\n",
              "    width: 32px;\n",
              "  }\n",
              "\n",
              "  .colab-df-quickchart:hover {\n",
              "    background-color: var(--hover-bg-color);\n",
              "    box-shadow: 0 1px 2px rgba(60, 64, 67, 0.3), 0 1px 3px 1px rgba(60, 64, 67, 0.15);\n",
              "    fill: var(--button-hover-fill-color);\n",
              "  }\n",
              "\n",
              "  .colab-df-quickchart-complete:disabled,\n",
              "  .colab-df-quickchart-complete:disabled:hover {\n",
              "    background-color: var(--disabled-bg-color);\n",
              "    fill: var(--disabled-fill-color);\n",
              "    box-shadow: none;\n",
              "  }\n",
              "\n",
              "  .colab-df-spinner {\n",
              "    border: 2px solid var(--fill-color);\n",
              "    border-color: transparent;\n",
              "    border-bottom-color: var(--fill-color);\n",
              "    animation:\n",
              "      spin 1s steps(1) infinite;\n",
              "  }\n",
              "\n",
              "  @keyframes spin {\n",
              "    0% {\n",
              "      border-color: transparent;\n",
              "      border-bottom-color: var(--fill-color);\n",
              "      border-left-color: var(--fill-color);\n",
              "    }\n",
              "    20% {\n",
              "      border-color: transparent;\n",
              "      border-left-color: var(--fill-color);\n",
              "      border-top-color: var(--fill-color);\n",
              "    }\n",
              "    30% {\n",
              "      border-color: transparent;\n",
              "      border-left-color: var(--fill-color);\n",
              "      border-top-color: var(--fill-color);\n",
              "      border-right-color: var(--fill-color);\n",
              "    }\n",
              "    40% {\n",
              "      border-color: transparent;\n",
              "      border-right-color: var(--fill-color);\n",
              "      border-top-color: var(--fill-color);\n",
              "    }\n",
              "    60% {\n",
              "      border-color: transparent;\n",
              "      border-right-color: var(--fill-color);\n",
              "    }\n",
              "    80% {\n",
              "      border-color: transparent;\n",
              "      border-right-color: var(--fill-color);\n",
              "      border-bottom-color: var(--fill-color);\n",
              "    }\n",
              "    90% {\n",
              "      border-color: transparent;\n",
              "      border-bottom-color: var(--fill-color);\n",
              "    }\n",
              "  }\n",
              "</style>\n",
              "\n",
              "      <script>\n",
              "        async function quickchart(key) {\n",
              "          const quickchartButtonEl =\n",
              "            document.querySelector('#' + key + ' button');\n",
              "          quickchartButtonEl.disabled = true;  // To prevent multiple clicks.\n",
              "          quickchartButtonEl.classList.add('colab-df-spinner');\n",
              "          try {\n",
              "            const charts = await google.colab.kernel.invokeFunction(\n",
              "                'suggestCharts', [key], {});\n",
              "          } catch (error) {\n",
              "            console.error('Error during call to suggestCharts:', error);\n",
              "          }\n",
              "          quickchartButtonEl.classList.remove('colab-df-spinner');\n",
              "          quickchartButtonEl.classList.add('colab-df-quickchart-complete');\n",
              "        }\n",
              "        (() => {\n",
              "          let quickchartButtonEl =\n",
              "            document.querySelector('#df-4875c9c3-b1f5-443c-913b-c8fb9caffb0e button');\n",
              "          quickchartButtonEl.style.display =\n",
              "            google.colab.kernel.accessAllowed ? 'block' : 'none';\n",
              "        })();\n",
              "      </script>\n",
              "    </div>\n",
              "\n",
              "    </div>\n",
              "  </div>\n"
            ],
            "application/vnd.google.colaboratory.intrinsic+json": {
              "type": "dataframe",
              "summary": "{\n  \"name\": \"final_df[['Row ID', 'tau_pred', 'q0_pred', 'delta_profit', 'offer_discount']]\",\n  \"rows\": 5,\n  \"fields\": [\n    {\n      \"column\": \"Row ID\",\n      \"properties\": {\n        \"dtype\": \"number\",\n        \"std\": 1,\n        \"min\": 1,\n        \"max\": 5,\n        \"num_unique_values\": 5,\n        \"samples\": [\n          2,\n          5,\n          3\n        ],\n        \"semantic_type\": \"\",\n        \"description\": \"\"\n      }\n    },\n    {\n      \"column\": \"tau_pred\",\n      \"properties\": {\n        \"dtype\": \"number\",\n        \"std\": 0.09886467776588542,\n        \"min\": -0.37056880098824607,\n        \"max\": -0.1241218905407786,\n        \"num_unique_values\": 4,\n        \"samples\": [\n          -0.33814273642791665,\n          -0.1241218905407786,\n          -0.32951447778067605\n        ],\n        \"semantic_type\": \"\",\n        \"description\": \"\"\n      }\n    },\n    {\n      \"column\": \"q0_pred\",\n      \"properties\": {\n        \"dtype\": \"float32\",\n        \"num_unique_values\": 4,\n        \"samples\": [\n          3.754804849624634,\n          3.8568074703216553,\n          3.670900821685791\n        ],\n        \"semantic_type\": \"\",\n        \"description\": \"\"\n      }\n    },\n    {\n      \"column\": \"delta_profit\",\n      \"properties\": {\n        \"dtype\": \"number\",\n        \"std\": 0.40760503133313625,\n        \"min\": -12.619726441731386,\n        \"max\": -11.687892099688943,\n        \"num_unique_values\": 4,\n        \"samples\": [\n          -11.954877707554123,\n          -12.312141399490192,\n          -11.687892099688943\n        ],\n        \"semantic_type\": \"\",\n        \"description\": \"\"\n      }\n    },\n    {\n      \"column\": \"offer_discount\",\n      \"properties\": {\n        \"dtype\": \"number\",\n        \"std\": 0,\n        \"min\": 0,\n        \"max\": 0,\n        \"num_unique_values\": 1,\n        \"samples\": [\n          0\n        ],\n        \"semantic_type\": \"\",\n        \"description\": \"\"\n      }\n    }\n  ]\n}"
            }
          },
          "metadata": {},
          "execution_count": 127
        }
      ]
    },
    {
      "cell_type": "code",
      "source": [],
      "metadata": {
        "id": "L97UuQQDw0b8"
      },
      "execution_count": null,
      "outputs": []
    }
  ]
}