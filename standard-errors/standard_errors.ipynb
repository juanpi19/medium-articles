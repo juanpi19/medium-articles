{
  "nbformat": 4,
  "nbformat_minor": 0,
  "metadata": {
    "colab": {
      "provenance": [],
      "authorship_tag": "ABX9TyOeXwl/iINFVMqyh2UZgRSU",
      "include_colab_link": true
    },
    "kernelspec": {
      "name": "python3",
      "display_name": "Python 3"
    },
    "language_info": {
      "name": "python"
    }
  },
  "cells": [
    {
      "cell_type": "markdown",
      "metadata": {
        "id": "view-in-github",
        "colab_type": "text"
      },
      "source": [
        "<a href=\"https://colab.research.google.com/github/juanpi19/medium-articles/blob/main/standard-errors/standard_errors.ipynb\" target=\"_parent\"><img src=\"https://colab.research.google.com/assets/colab-badge.svg\" alt=\"Open In Colab\"/></a>"
      ]
    },
    {
      "cell_type": "code",
      "execution_count": 1,
      "metadata": {
        "id": "KZU8C3rXoH7V"
      },
      "outputs": [],
      "source": [
        "import numpy as np\n",
        "import pandas as pd\n",
        "import matplotlib.pyplot as plt"
      ]
    },
    {
      "cell_type": "markdown",
      "source": [
        "\n",
        "Is there a  difference in the proportion of customers satisfied with our new product compared to our previous product?\n",
        "\n",
        "\n",
        "We sampled two random samples:\n",
        "\n",
        "\n",
        "n1 = 500,\n",
        "p1 = 0.3\n",
        "\n",
        "n2 = 600,\n",
        "p2 = 0.25"
      ],
      "metadata": {
        "id": "oHLT0L_MoeDY"
      }
    },
    {
      "cell_type": "code",
      "source": [
        "n1 = 500\n",
        "x1 = 150\n",
        "p1 = 0.3\n",
        "\n",
        "n2 = 600\n",
        "x2 = 150\n",
        "p2 = 0.25\n",
        "\n",
        "point_estimate = p1 - p2"
      ],
      "metadata": {
        "id": "0IIOc3hmoRI6"
      },
      "execution_count": 106,
      "outputs": []
    },
    {
      "cell_type": "markdown",
      "source": [
        "# Confidence Interval"
      ],
      "metadata": {
        "id": "TPTYNUMRQWGL"
      }
    },
    {
      "cell_type": "code",
      "source": [
        "# CI\n",
        "se = np.sqrt((p1*(1-p1)/n1) + (p2*(1-p2)/n2))\n",
        "z = 1.96\n",
        "\n",
        "lower_ci = point_estimate - z * se\n",
        "upper_ci = point_estimate + z * se\n",
        "lower_ci, upper_ci"
      ],
      "metadata": {
        "colab": {
          "base_uri": "https://localhost:8080/"
        },
        "id": "s73zZJEQyI2k",
        "outputId": "9bace978-b8b6-4c0e-fe53-acd7026420e7"
      },
      "execution_count": 99,
      "outputs": [
        {
          "output_type": "execute_result",
          "data": {
            "text/plain": [
              "(-0.003046884922679495, 0.10304688492267947)"
            ]
          },
          "metadata": {},
          "execution_count": 99
        }
      ]
    },
    {
      "cell_type": "markdown",
      "source": [
        "# Hypothesis Testing"
      ],
      "metadata": {
        "id": "k0taNAauQSr2"
      }
    },
    {
      "cell_type": "code",
      "source": [
        "\n",
        "\n",
        "p_hat = (x1 + x2) / (n1 + n2)\n",
        "pooled_se = np.sqrt(p_hat*(1-p_hat) * (1/n1 + 1/n2))\n",
        "pooled_se\n",
        "\n",
        "# z-stat\n",
        "point_estimate/pooled_se"
      ],
      "metadata": {
        "colab": {
          "base_uri": "https://localhost:8080/"
        },
        "id": "gITvZQ66yIr2",
        "outputId": "1836be2c-d88a-4928-bc9a-9b4a4fb627c0"
      },
      "execution_count": 107,
      "outputs": [
        {
          "output_type": "execute_result",
          "data": {
            "text/plain": [
              "1.8540496217739155"
            ]
          },
          "metadata": {},
          "execution_count": 107
        }
      ]
    },
    {
      "cell_type": "markdown",
      "source": [
        "# P-value"
      ],
      "metadata": {
        "id": "nj2UcPQGQOKX"
      }
    },
    {
      "cell_type": "code",
      "source": [
        "(1 - .9678) * 2"
      ],
      "metadata": {
        "colab": {
          "base_uri": "https://localhost:8080/"
        },
        "id": "n6NEMC_8yITj",
        "outputId": "f84213c3-73f6-40c2-c9f3-4ac214eca00a"
      },
      "execution_count": 2,
      "outputs": [
        {
          "output_type": "execute_result",
          "data": {
            "text/plain": [
              "0.06440000000000001"
            ]
          },
          "metadata": {},
          "execution_count": 2
        }
      ]
    },
    {
      "cell_type": "markdown",
      "source": [
        "# Sampling Distribution"
      ],
      "metadata": {
        "id": "Sh4OezZ7w-KT"
      }
    },
    {
      "cell_type": "code",
      "source": [
        "n1, n2 = 500, 600\n",
        "p1, p2 = 0.3, 0.25\n",
        "\n",
        "sampling_dist = []\n",
        "\n",
        "for _ in range(1000): # simulating 1000 samples\n",
        "\n",
        "  # Drawing the Number of Successes\n",
        "  p1_bootstrap = np.random.binomial(n=n1, p=p1) / n1\n",
        "  p2_bootstrap = np.random.binomial(n=n2, p=p2) / n2\n",
        "\n",
        "  # Point Estimate\n",
        "  estimate = p1_bootstrap - p2_bootstrap\n",
        "\n",
        "  sampling_dist.append(estimate)\n",
        "\n",
        "plt.hist(sampling_dist)\n",
        "plt.axvline(p1-p2, ls='--', c='red');"
      ],
      "metadata": {
        "colab": {
          "base_uri": "https://localhost:8080/",
          "height": 430
        },
        "id": "gM9McTkLuIoL",
        "outputId": "98a65827-e106-475f-ca78-dd8f1ab755e0"
      },
      "execution_count": 113,
      "outputs": [
        {
          "output_type": "display_data",
          "data": {
            "text/plain": [
              "<Figure size 640x480 with 1 Axes>"
            ],
            "image/png": "[encoded data removed]"
          },
          "metadata": {}
        }
      ]
    },
    {
      "cell_type": "code",
      "source": [
        "np.std(sampling_dist)"
      ],
      "metadata": {
        "colab": {
          "base_uri": "https://localhost:8080/"
        },
        "id": "djf0TclSxAGe",
        "outputId": "d57fb82a-c1f5-42ba-cd9a-b01d6c44e403"
      },
      "execution_count": 115,
      "outputs": [
        {
          "output_type": "execute_result",
          "data": {
            "text/plain": [
              "0.026695040819098466"
            ]
          },
          "metadata": {},
          "execution_count": 115
        }
      ]
    },
    {
      "cell_type": "markdown",
      "source": [
        "# Randomized Distribution"
      ],
      "metadata": {
        "id": "sW9gEJ2gxArn"
      }
    },
    {
      "cell_type": "code",
      "source": [
        "df = pd.DataFrame()\n",
        "df1 = pd.DataFrame()\n",
        "\n",
        "# 0 represents a customer is not satified, a 1 represents the customer is satisfied\n",
        "\n",
        "df['sample'] = np.zeros(n1)\n",
        "indices_to_replace = df['sample'].index.isin(np.random.choice(df.index, int(p1*n1), replace=False))\n",
        "df.loc[indices_to_replace, 'sample'] = 1\n",
        "\n",
        "\n",
        "df1['sample'] = np.zeros(n2)\n",
        "indices_to_replace = df1['sample'].index.isin(np.random.choice(df1.index, int(p2*n2), replace=False))\n",
        "df1.loc[indices_to_replace, 'sample'] = 1\n",
        "\n",
        "df = pd.concat([df, df1])\n"
      ],
      "metadata": {
        "id": "1UAR1r-KtmIG"
      },
      "execution_count": 86,
      "outputs": []
    },
    {
      "cell_type": "code",
      "source": [
        "randomized_dist = []\n",
        "for _ in range(1000):\n",
        "  p1_randomized = sum(np.random.choice(df['sample'], size=n1)) / n1\n",
        "  p2_randomized = sum(np.random.choice(df['sample'], size=n2)) / n2\n",
        "\n",
        "  pe = p1_randomized - p2_randomized\n",
        "  randomized_dist.append(pe)\n",
        "\n",
        "plt.hist(randomized_dist)\n",
        "plt.axvline(p1-p2, ls='--', c='red')"
      ],
      "metadata": {
        "colab": {
          "base_uri": "https://localhost:8080/",
          "height": 447
        },
        "id": "p5sSaq9qwXgt",
        "outputId": "8ad4e798-700c-4d92-cecd-da5a229055b2"
      },
      "execution_count": 87,
      "outputs": [
        {
          "output_type": "execute_result",
          "data": {
            "text/plain": [
              "<matplotlib.lines.Line2D at 0x7809224d3c10>"
            ]
          },
          "metadata": {},
          "execution_count": 87
        },
        {
          "output_type": "display_data",
          "data": {
            "text/plain": [
              "<Figure size 640x480 with 1 Axes>"
            ],
            "image/png": "[encoded data removed]"
          },
          "metadata": {}
        }
      ]
    },
    {
      "cell_type": "code",
      "source": [
        "(sum(np.array(randomized_dist) >= (p1-p2)) / 1000) * 2"
      ],
      "metadata": {
        "colab": {
          "base_uri": "https://localhost:8080/"
        },
        "id": "Td3p36NYqJTj",
        "outputId": "77978de6-28bc-49b6-cd0e-e984ba26ab5a"
      },
      "execution_count": 110,
      "outputs": [
        {
          "output_type": "execute_result",
          "data": {
            "text/plain": [
              "0.078"
            ]
          },
          "metadata": {},
          "execution_count": 110
        }
      ]
    }
  ]
}